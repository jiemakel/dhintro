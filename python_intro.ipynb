{
 "cells": [
  {
   "cell_type": "markdown",
   "metadata": {},
   "source": [
    "# Fundamental concepts of programming for humanists (Python)\n",
    "\n",
    "## Program flow\n",
    "Programming is the act of giving a series of instructions to the computer. Upon running the program, the computer then follows these instructions in sequence. Typically (but not always), each line in a program is a single instruction. \n",
    "\n",
    "The box below contains two instructions. Run them by selecting the box (by clicking on it) and pressing ctrl-enter (or selecting the play button from the menu above). "
   ]
  },
  {
   "cell_type": "code",
   "execution_count": 1,
   "metadata": {
    "collapsed": false
   },
   "outputs": [],
   "source": [
    "print(\"Hello\")\n",
    "print(\"programming\")"
   ]
  },
  {
   "cell_type": "markdown",
   "metadata": {},
   "source": [
    "Notice how two lines are printed. You can freely change the text inside the quotation marks to change what is printed. You can even add new print commands on additional lines. Try it!\n",
    "\n",
    "Naturally, a complete program will often be a lot more complex than this, but can often still be thought of as a sequence. For example, a program could: \n",
    " 1. read in the complete texts of an author\n",
    " 1. create a sheet counting how many times each distinct word appears in the texts (e.g. the: 50, world: 10, is: 30, suffering: 5)\n",
    " 1. read in the complete texts of another author\n",
    " 1. make a similar sheet of the words appearing therein\n",
    " 1. compare the counts between the two authors to produce two tables of:\n",
    "    1. the words appearing with most similar frequencies in both author's works\n",
    "    1. the words that appear with most dissimilar frequencies in the author's works\n",
    "\n",
    "## Variables\n",
    "\n",
    "As said, often in programs, you are doing something based on some data, and not just single items either, but e.g. the complete texts of a thousand books. And, you're going to do the same thing to multiple texts. And, the process is going to have multiple steps, with different representations for the data. Thus, you can't just copy and paste the text of those books inside print statements.\n",
    "\n",
    "Instead, you need a way for the program to refer to that data in a symbolic manner. For this, named variables can be defined In Python, you put stuff in variables by `=`, and retrieve it just by giving the variable name."
   ]
  },
  {
   "cell_type": "code",
   "execution_count": 2,
   "metadata": {
    "collapsed": false
   },
   "outputs": [],
   "source": [
    "name = \"Eetu\"\n",
    "print(\"Hello \" + name + \".\")\n",
    "print(\"Welcome to programming \"+name+\".\")"
   ]
  },
  {
   "cell_type": "markdown",
   "metadata": {},
   "source": [
    "Here, we're storing in the variable just a simple piece of text. But in practice, variables can store much more interesting things, too (such as the complete works by an author as read from a text file, or the words counts derived thereof).\n",
    "\n",
    "In the above, also note how whitespace works. Inside program code itself, it doesn't matter if you have `a+b` or `a + b` or even `a +b`. On the other hand, inside the `\"` marks whitespace is important, because there it is data, not code. See below:"
   ]
  },
  {
   "cell_type": "code",
   "execution_count": 3,
   "metadata": {
    "collapsed": false,
    "inputHidden": false,
    "outputHidden": false
   },
   "outputs": [],
   "source": [
    "print(\"Hello     \"+name+\"     .\")\n",
    "print(\"Hello\"+     name+     \".\")\n",
    "print(\"Hello\"   +  name   +  \".\")"
   ]
  },
  {
   "cell_type": "markdown",
   "metadata": {},
   "source": [
    "## Operators\n",
    "One way to act with values is by joining them with operators. The `+` in the above is a concatenation operator, joining together multiple strings (or the contents of string variables). A lot of the basic operators come from arithmetic and are mainly defined for numeric values, e.g. `+, -, /, *`. These also follow the precendence rules from basic math. Try them:"
   ]
  },
  {
   "cell_type": "code",
   "execution_count": 4,
   "metadata": {
    "collapsed": false
   },
   "outputs": [],
   "source": [
    "print( 1+5 )\n",
    "print( 1+5/2 )\n",
    "print( (1+5)/2 )"
   ]
  },
  {
   "cell_type": "markdown",
   "metadata": {},
   "source": [
    "A second common class of operators are comparison operators, e.g.: `==, !=, >, <, >=, <=`. "
   ]
  },
  {
   "cell_type": "code",
   "execution_count": 5,
   "metadata": {
    "collapsed": false
   },
   "outputs": [],
   "source": [
    "print(\"Is 1<5? \"+str( 1<5 ))\n",
    "print(\"Is 1>5? \"+str( 1>5 ))\n",
    "print(\"Is 1==5? \"+str( 1==5 ))\n",
    "print(\"Is 1!=5? \"+str( 1!=5 ))\n",
    "print(\"Is a<b? \"+str( \"a\"<\"b\" ))\n",
    "print(\"Is a==a? \"+str( \"a\"==\"a\" ))\n",
    "print(\"Is a!=a? \"+str( \"a\"!=\"a\" ))\n"
   ]
  },
  {
   "cell_type": "markdown",
   "metadata": {},
   "source": [
    "Notice how the above comparisons yielded truth values? Those are useful for:\n",
    "\n",
    "## Control flow\n",
    "\n",
    "A computer program isn't really just a sequence of commands. It can also contain control flow statements that affect how the computer proceeds through the program. These are where the above mentioned comparison operators most often are used. Try changing the name variable by changing the assignment in the cell concerning variables above (and executing that cell), and see what happens when you after that execute the cell below."
   ]
  },
  {
   "cell_type": "code",
   "execution_count": 6,
   "metadata": {
    "collapsed": false
   },
   "outputs": [],
   "source": [
    "if name==\"John\":\n",
    "    print(\"Hello Johnny\")\n",
    "elif name==\"Bruce Wayne\":\n",
    "    print(\"Hello Batman\")\n",
    "else:\n",
    "    print(\"Hello \"+name)"
   ]
  },
  {
   "cell_type": "markdown",
   "metadata": {},
   "source": [
    "That control flow construct was the `if` construct. Other important control flow constructs are `while` and its specialization `for`. They're used for doing stuff repeatedly (for example, to do something to all words in a sentence, etc.)"
   ]
  },
  {
   "cell_type": "code",
   "execution_count": 7,
   "metadata": {
    "collapsed": false
   },
   "outputs": [],
   "source": [
    "count = 1\n",
    "print(\"Starting. Count: \" + str(count))\n",
    "while count <= 3:\n",
    "  print(\"In while, because count (\"+str(count)+\") just tested was below or equal to 3.\")\n",
    "  count=count+1\n",
    "  print(\"In while, about to test with new count: \"+str(count))\n",
    "print(\"Done. Count (\"+str(count)+\") was not be below or equal to 3.\")"
   ]
  },
  {
   "cell_type": "markdown",
   "metadata": {},
   "source": [
    "What the above does is: set the variable `count` to 1. Then, as long as `count` remains under 4, set `count` to `count + 1` and print information on it. \n",
    "\n",
    "Note that both the adding of 1 to `count` and the prints are included inside the while. That's because of the indentation. Try removing the two spaces before the last print statement and re-running the cell. How did the output change? (Note that if you remove the spaces before `count=count+1`, the while will run forever)\n",
    "\n",
    "Below, the same repetition is done with the specialized for construct (repeating something for all values in a collection is such a frequent operation, it makes sense that most languages have a specialized construct for it)"
   ]
  },
  {
   "cell_type": "code",
   "execution_count": 8,
   "metadata": {
    "collapsed": false,
    "inputHidden": false,
    "outputHidden": false
   },
   "outputs": [],
   "source": [
    "print(\"Starting.\")\n",
    "for item in [1,2,3]:\n",
    "  print(\"For: \"+str(item))\n",
    "print(\"Done.\")"
   ]
  },
  {
   "cell_type": "markdown",
   "metadata": {},
   "source": [
    "## Variable types\n",
    "\n",
    "In the above, we also coincidentally introduced the fact that for computers, `\"1\"` and `1` are two completely separate things. One is text (in programming almost universally called a *string* due to [historical reasons](https://www.quora.com/Why-is-a-string-called-a-String)), while the other is a number, and the two don't mix. For example, the second statement in the following code just doesn't work. Try it."
   ]
  },
  {
   "cell_type": "code",
   "execution_count": 9,
   "metadata": {
    "collapsed": false
   },
   "outputs": [],
   "source": [
    "print(10+10)\n",
    "print(\"10\"+10)"
   ]
  },
  {
   "cell_type": "markdown",
   "metadata": {},
   "source": [
    "Fortunately, values of different types can often be converted to each other, as in the following:"
   ]
  },
  {
   "cell_type": "code",
   "execution_count": 10,
   "metadata": {
    "collapsed": false,
    "scrolled": true
   },
   "outputs": [],
   "source": [
    "i = 1\n",
    "print(\"Type of i: \"+str(type(i)))\n",
    "j = '1'\n",
    "print(\"Type of j: \"+str(type(j)))\n",
    "print(\"Is i equal to j?: \"+str(i==j))\n",
    "print(\"Is str(i) equal to j?: \"+str(str(i)==j))\n",
    "print(\"Is i equal to int(j)?: \"+str(i==int(j)))"
   ]
  },
  {
   "cell_type": "markdown",
   "metadata": {},
   "source": [
    "Just don't try converting anything that's not a number to one:"
   ]
  },
  {
   "cell_type": "code",
   "execution_count": 11,
   "metadata": {
    "collapsed": false,
    "scrolled": false
   },
   "outputs": [],
   "source": [
    "# The computer understands how to convert the string 11 into a number\n",
    "int(\"11\")\n",
    "# Yet the string eleven isn't a number to the computer, even though it is to us.\n",
    "int(\"eleven\")\n",
    "# These lines by the way are comments. They're ways of documenting what a program does to humans reading it. They're not processed by the computer"
   ]
  },
  {
   "cell_type": "markdown",
   "metadata": {},
   "source": [
    "While Python does not enforce this, modern versions of the language also support type hinting. This is a way to tell both humans as well as the computer what type of data a variable is supposed to hold. Advanced programming environments use this information to hint to the user about potential errors in their code. For example, the following code will give a warning in many modern programming environments (but not this notebook)."
   ]
  },
  {
   "cell_type": "code",
   "execution_count": null,
   "metadata": {},
   "outputs": [],
   "source": [
    "a: int = \"eleven\""
   ]
  },
  {
   "cell_type": "markdown",
   "metadata": {},
   "source": [
    "Again, the types of your variables in practice will often be much more complex than just strings or numbers (such as different particular ways of storing the texts of 1000 books). Still, converting data from one structure to another, as dictated by the needs of processing, is a big part of programming.\n",
    "\n",
    "## Functions/methods\n",
    "\n",
    "Often, one wants to also run a piece of code multiple times, from multiple parts of the program. For this, one *defines* functions, which work for code similarly to how variables work for storing and recalling values (except where data is often read in from outside the code, the logic for a function is specified inside its definition). Functions take in zero or more parameters (given in parentheses), and can optionally return back a single value.\n",
    "\n",
    "(In this way, they're also very much like mathematical functions, where e.g. `f(x)=x+2` is a function definition, with `x` as input and the body of the function defining the returned output as `x+2`.)\n"
   ]
  },
  {
   "cell_type": "code",
   "execution_count": 12,
   "metadata": {
    "collapsed": false
   },
   "outputs": [],
   "source": [
    "import re\n",
    "\n",
    "# This is a function definition that takes in a single variable named text. It returns that text after some processing.\n",
    "def standardize(text):\n",
    "    text = text.replace(\".\",\" \")\n",
    "    text = text.replace(\",\",\" \")\n",
    "    text = text.replace(\"?\",\" \")\n",
    "    text = text.replace(\"!\",\" \")\n",
    "    text = text.replace(\"'\",\"\")\n",
    "    text = text.lower()\n",
    "    return re.sub(\"\\s+\",\" \", text)\n",
    "\n",
    "print(standardize(\"Where are we? I don't know!\"))\n",
    "print(standardize(\"This, programming... is... terrifying!\"))"
   ]
  },
  {
   "cell_type": "markdown",
   "metadata": {},
   "source": [
    "\n",
    "Very often, functions are packaged inside libraries, which you have to import in order to use. For example, in the above, we import the `re` [regular expression](http://www.regular-expressions.info/)  function  from the [library](https://docs.python.org/3/library/re.html) of the same name.\n",
    "\n",
    "Other functions we've also already seen are `str, int, type` and also `print`, which come from the [standard library](https://docs.python.org/3.6/library/index.html) of Python!\n",
    "\n",
    "Some functions are also associated with particular data types (we call these methods). For example, in the above, we refer to the `replace` and `lower` methods associated with all variables of type [`str`](https://docs.python.org/3.6/library/stdtypes.html#text-sequence-type-str). These refer implicitly to the value of the variable. See:"
   ]
  },
  {
   "cell_type": "code",
   "execution_count": 13,
   "metadata": {
    "collapsed": false
   },
   "outputs": [],
   "source": [
    "text = \"Hmm...\"\n",
    "print(\"method of string object: \"+text+\"->\"+text.replace(\".\",\"!\"))\n",
    "\n",
    "# Don't worry about the content of this function, just note its parameters (and the fact that again what is contained in the function is defined by indentation)\n",
    "def replace(string,replaceThis,withThis):\n",
    "    modifiableString = list(string)\n",
    "    for i in range(0,len(modifiableString)):\n",
    "        if (modifiableString[i]==replaceThis): \n",
    "            modifiableString[i]=withThis\n",
    "    return \"\".join(modifiableString)\n",
    "\n",
    "print(\"separately defined replace-function: \"+text+\"->\"+replace(text,\".\",\"!\"))\n",
    "\n",
    "# See how they're the same thing, but written differently:\n",
    "# replace(text,\".\",\"!\") vs\n",
    "# text.replace(\".\",\"!\")\n",
    "\n",
    "# This really doesn't belong in this intro, but I can't resist mentioning that in the end also the operators we've been using are actually methods of the objects. They just have convenience syntax added to them.\n",
    "print((5).__add__(3))\n",
    "print(5+3)\n",
    "print((\"a\").__add__(\"b\"))\n",
    "print(\"a\"+\"b\")"
   ]
  },
  {
   "cell_type": "markdown",
   "metadata": {},
   "source": [
    "Having functions implicitly tied to particular types doesn't give us any more functionality, but sometimes makes our code look nicer:"
   ]
  },
  {
   "cell_type": "code",
   "execution_count": 14,
   "metadata": {
    "collapsed": false,
    "inputHidden": false,
    "outputHidden": false
   },
   "outputs": [],
   "source": [
    "# In the original standardize function, we assigned the replaced text back to the original parameter variable each row:\n",
    "def standardize(text):\n",
    "    text = text.replace(\".\",\" \")\n",
    "    text = text.replace(\",\",\" \")\n",
    "    text = text.replace(\"?\",\" \")\n",
    "    text = text.replace(\"!\",\" \")\n",
    "    text = text.replace(\"'\",\"\")\n",
    "    text = text.lower()\n",
    "    return re.sub(\"\\s+\",\" \", text)\n",
    "\n",
    "# Often, we want to write this more shortly. Here, we can use make use of the fact that replace returns a string, and /chain/ a call to the replace (or lower) method of that returned string\n",
    "def standardize2(text):\n",
    "  text = text.replace(\".\",\" \").replace(\",\",\" \").replace(\"?\",\" \").replace(\"!\",\" \").replace(\"'\",\"\").lower()\n",
    "  return re.sub(\"\\s+\",\" \", text)\n",
    "\n",
    "# Now, we can do this kind of chaining with functions too, but because of where we need to put the string parameter, the result is not nearly as clear to undestand.\n",
    "def standardize3(text):\n",
    "  text = replace(replace(replace(replace(replace(text,\".\",\" \"),\",\",\" \"),\"?\",\" \"),\"!\",\" \"),\"'\",\"\").lower()\n",
    "  return re.sub(\"\\s+\",\" \", text)\n",
    "\n",
    "print(standardize2(\"Where are we? I don't know!\"))\n",
    "print(standardize3(\"This, programming... is... terrifying!\"))"
   ]
  },
  {
   "cell_type": "markdown",
   "metadata": {},
   "source": [
    "\n",
    "\n",
    "Often, libraries contain both new functions as well as new data types (classes) with attendant methods. To use the library, one has to read up on all of them."
   ]
  },
  {
   "cell_type": "markdown",
   "metadata": {},
   "source": [
    "## Data structures\n",
    "\n",
    "As said earlier, variables can hold much more complex data than just simple strings or numbers. They can in fact hold any data structure defined by the programming language or a libary. \n",
    "\n",
    "Most programming languages have two very useful core data types you should know. These are lists (or sequences or arrays) for holding multiple items, and [dictionaries](https://docs.python.org/3/tutorial/datastructures.html#dictionaries) (or hashes or maps) for creating associations between items. "
   ]
  },
  {
   "cell_type": "code",
   "execution_count": 15,
   "metadata": {
    "collapsed": false,
    "scrolled": true
   },
   "outputs": [],
   "source": [
    "# Here, we're defining a replacement dictionary. The magic syntax uses {} and :\n",
    "replacements = {\n",
    "    \".\": \" \",\n",
    "    \",\": \" \",\n",
    "    \"!\": \" \",\n",
    "    \"?\": \" \",\n",
    "    \"'\": \"\",\n",
    "    \"&\": \"and\" \n",
    "}\n",
    "\n",
    "def standardize4(text):\n",
    "    # Here we're going over all the keys in the replacement dictionary and acting on them\n",
    "    for key in replacements:\n",
    "        text = text.replace(key, replacements[key])\n",
    "    return re.sub(\"\\s+\",\" \", text.lower())\n",
    "\n",
    "# This is a list. Here the magic syntax is [] and ,\n",
    "sentences = [ \"Where are we? I don't know!\", \"This, programming... is... terrifying!\" ]\n",
    "\n",
    "# Here we're calling the function once for each string in the sentences list\n",
    "for sentence in sentences:\n",
    "    print(standardize4(sentence))\n",
    "    \n",
    "# You can also explicitly refer to a particular slot in a list or a key in a dictionary using square brackets:\n",
    "print(replacements[\"&\"])\n",
    "print(sentences[0])\n",
    "# In the above, note that the first entry in the list is at index 0, not 1. That's a conventional relic that permeates most programming languages, and comes originally from the way computers handle memory."
   ]
  },
  {
   "cell_type": "code",
   "execution_count": 16,
   "metadata": {
    "collapsed": false
   },
   "outputs": [],
   "source": [
    "# Note that a dictionary can only contain one value for each key\n",
    "replacements2 = {\n",
    "    \".\" : \"?\",\n",
    "    \".\" : \"!\"\n",
    "}\n",
    "print(replacements2[\".\"])\n",
    "\n",
    "# Therefore, if you need multiple values, you have to combine dictionaries with lists:\n",
    "replacements2 = {\n",
    "    \".\" : [\"?\",\"!\"]\n",
    "}\n",
    "\n",
    "print(replacements2[\".\"])"
   ]
  },
  {
   "cell_type": "markdown",
   "metadata": {},
   "source": [
    "## Conclusion\n",
    "\n",
    "That's all I think you absolutely *need* to know in order to start reading and learning from examples. Good places to start are for example [Python Programming for the Humanities](http://fbkarsdorp.github.io/python-course/) and [The Programming Historian](http://programminghistorian.org/lessons/)\n",
    "\n",
    "I must note however that there is a significant part of modern programming that didn't get covered at all. That deals with defining [classes](https://docs.python.org/3/tutorial/classes.html), which are the way libraries are able to define new formal data types and structures, with attendant methods. The reason I didn't include classes in this is that while they're essential to developing libraries, knowing how they're defined isn't in any way essential to using them."
   ]
  }
 ],
 "metadata": {
  "kernel_info": {
   "name": "python3"
  },
  "kernelspec": {
   "display_name": "Python 3",
   "language": "python",
   "name": "python3"
  },
  "language_info": {
   "codemirror_mode": {
    "name": "ipython",
    "version": 3
   },
   "file_extension": ".py",
   "mimetype": "text/x-python",
   "name": "python",
   "nbconvert_exporter": "python",
   "pygments_lexer": "ipython3",
   "version": "3.7.1"
  },
  "nteract": {
   "version": "0.2.0"
  }
 },
 "nbformat": 4,
 "nbformat_minor": 2
}
