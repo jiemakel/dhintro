{
 "cells": [
  {
   "cell_type": "markdown",
   "metadata": {},
   "source": [
    "# Fundamental concepts of programming for humanists (Scala)\n",
    "\n",
    "## Program flow\n",
    "Programming is the act of giving a series of instructions to the computer. Upon running the program, the computer then follows these instructions in sequence. Typically (but not always), each line in a program is a single instruction. \n",
    "\n",
    "The box below contains two instructions. Run them by selecting the box (by clicking on it) and pressing ctrl-enter (or selecting the play button from the menu above). "
   ]
  },
  {
   "cell_type": "code",
   "execution_count": 6,
   "metadata": {
    "inputHidden": false,
    "outputHidden": false
   },
   "outputs": [
    {
     "name": "stdout",
     "output_type": "stream",
     "text": [
      "Hello\n",
      "programming\n"
     ]
    }
   ],
   "source": [
    "println(\"Hello\")\n",
    "println(\"programming\")"
   ]
  },
  {
   "cell_type": "markdown",
   "metadata": {},
   "source": [
    "Notice how two lines are printed. You can freely change the text inside the quotation marks to change what is printed. You can even add new print commands on additional lines. Try it!\n",
    "\n",
    "Naturally, a complete program will often be a lot more complex than this, but can often still be thought of as a sequence. For example, a program could: \n",
    " 1. read in the complete texts of an author\n",
    " 1. create a sheet counting how many times each distinct word appears in the texts (e.g. the: 50, world: 10, is: 30, suffering: 5)\n",
    " 1. read in the complete texts of another author\n",
    " 1. make a similar sheet of the words appearing therein\n",
    " 1. compare the counts between the two authors to produce two tables of:\n",
    "    1. the words appearing with most similar frequencies in both author's works\n",
    "    1. the words that appear with most dissimilar frequencies in the author's works\n",
    "\n",
    "## Variables\n",
    "\n",
    "As said, often in programs, you are doing something based on some data, and not just single items either, but e.g. the complete texts of a thousand books. And, you're going to do the same thing to multiple texts. And, the process is going to have multiple steps, with different representations for the data. Thus, you can't just copy and paste the text of those books inside print statements.\n",
    "\n",
    "Instead, you need a way for the program to refer to that data in a symbolic manner. For this, named variables can be defined. In Scala, the first time a variable appears, it needs to be defined using `var`. Otherwise, you put stuff in variables by `=`, and retrieve it just by giving the variable name."
   ]
  },
  {
   "cell_type": "code",
   "execution_count": 1,
   "metadata": {
    "inputHidden": false,
    "outputHidden": false
   },
   "outputs": [
    {
     "name": "stdout",
     "output_type": "stream",
     "text": [
      "Hello Bruce Wayne.\n",
      "Welcome to programming Bruce Wayne.\n"
     ]
    },
    {
     "data": {
      "text/plain": [
       "\u001b[36mname\u001b[39m: \u001b[32mString\u001b[39m = \u001b[32m\"Bruce Wayne\"\u001b[39m"
      ]
     },
     "execution_count": 1,
     "metadata": {},
     "output_type": "execute_result"
    }
   ],
   "source": [
    "var name = \"Eetu\"\n",
    "name = \"Bruce Wayne\"\n",
    "println(\"Hello \" + name + \".\")\n",
    "println(\"Welcome to programming \"+name+\".\")"
   ]
  },
  {
   "cell_type": "markdown",
   "metadata": {},
   "source": [
    "Here, we're storing in the variable just a simple piece of text. But in practice, variables can store much more interesting things, too (such as the complete works by an author as read from a text file, or the words counts derived thereof).\n",
    "\n",
    "In the above, also note how whitespace works. Inside program code itself, it doesn't matter if you have `a+b` or `a + b` or even `a +b`. On the other hand, inside the `\"` marks whitespace is important, because there it is data, not code. See below:"
   ]
  },
  {
   "cell_type": "code",
   "execution_count": 2,
   "metadata": {
    "inputHidden": false,
    "outputHidden": false
   },
   "outputs": [
    {
     "name": "stdout",
     "output_type": "stream",
     "text": [
      "Hello     Bruce Wayne     .\n",
      "HelloBruce Wayne.\n",
      "HelloBruce Wayne.\n"
     ]
    }
   ],
   "source": [
    "println(\"Hello     \"+name+\"     .\")\n",
    "println(\"Hello\"+     name+     \".\")\n",
    "println(\"Hello\"   +  name   +  \".\")"
   ]
  },
  {
   "cell_type": "markdown",
   "metadata": {},
   "source": [
    "## Operators\n",
    "One way to act with values is by joining them with operators. The `+` in the above is a concatenation operator, joining together multiple strings (or the contents of string variables). A lot of the basic operators come from arithmetic and are mainly defined for numeric values, e.g. `+, -, /, *`. These also follow the precendence rules from basic math. Try them:"
   ]
  },
  {
   "cell_type": "code",
   "execution_count": 14,
   "metadata": {
    "inputHidden": false,
    "outputHidden": false
   },
   "outputs": [
    {
     "name": "stdout",
     "output_type": "stream",
     "text": [
      "6\n",
      "3\n",
      "3\n"
     ]
    }
   ],
   "source": [
    "println( 1+5 )\n",
    "println( 1+5/2 )\n",
    "println( (1+5)/2 )"
   ]
  },
  {
   "cell_type": "markdown",
   "metadata": {},
   "source": [
    "A second common class of operators are comparison operators, e.g.: `==, !=, >, <, >=, <=`. "
   ]
  },
  {
   "cell_type": "code",
   "execution_count": 15,
   "metadata": {
    "inputHidden": false,
    "outputHidden": false
   },
   "outputs": [
    {
     "name": "stdout",
     "output_type": "stream",
     "text": [
      "Is 1<5? true\n",
      "Is 1>5? false\n",
      "Is 1==5? false\n",
      "Is 1!=5? true\n",
      "Is a<b? true\n",
      "Is a==a? true\n",
      "Is a!=a? false\n"
     ]
    }
   ],
   "source": [
    "println(\"Is 1<5? \"+( 1<5))\n",
    "println(\"Is 1>5? \"+( 1>5 ))\n",
    "println(\"Is 1==5? \"+( 1==5 ))\n",
    "println(\"Is 1!=5? \"+( 1!=5 ))\n",
    "println(\"Is a<b? \"+( \"a\"<\"b\" ))\n",
    "println(\"Is a==a? \"+( \"a\"==\"a\" ))\n",
    "println(\"Is a!=a? \"+( \"a\"!=\"a\" ))\n"
   ]
  },
  {
   "cell_type": "markdown",
   "metadata": {},
   "source": [
    "Notice how the above comparisons yielded truth values? Those are useful for:\n",
    "\n",
    "## Control flow\n",
    "\n",
    "A computer program isn't really just a sequence of commands. It can also contain control flow statements that affect how the computer proceeds through the program. These are where the above mentioned comparison operators most often are used. Try changing the name variable by changing the assignment in the cell concerning variables above (and executing that cell), and see what happens when you after that execute the cell below."
   ]
  },
  {
   "cell_type": "code",
   "execution_count": 3,
   "metadata": {
    "inputHidden": false,
    "outputHidden": false
   },
   "outputs": [
    {
     "name": "stdout",
     "output_type": "stream",
     "text": [
      "Hello Batman\n"
     ]
    }
   ],
   "source": [
    "if (name==\"John\")\n",
    "    println(\"Hello Johnny\")\n",
    "else if (name==\"Bruce Wayne\")\n",
    "    println(\"Hello Batman\")\n",
    "else\n",
    "    println(\"Hello \"+name)"
   ]
  },
  {
   "cell_type": "markdown",
   "metadata": {},
   "source": [
    "That control flow construct was the `if` construct. Some languages, such as Scala (and also R, actually), also have special syntax for if statements with very many options:"
   ]
  },
  {
   "cell_type": "code",
   "execution_count": 4,
   "metadata": {
    "inputHidden": false,
    "outputHidden": false
   },
   "outputs": [
    {
     "name": "stdout",
     "output_type": "stream",
     "text": [
      "Hello Batman\n"
     ]
    }
   ],
   "source": [
    "name match {\n",
    "    case \"John\" => println(\"Hello Johnny\")\n",
    "    case \"Bruce Wayne\" => println(\"Hello Batman\")\n",
    "    case anyname => println(\"Hello \"+anyname)\n",
    "}"
   ]
  },
  {
   "cell_type": "markdown",
   "metadata": {},
   "source": [
    "Other important control flow constructs are `while` and its specialization `for`. They're used for doing stuff repeatedly (for example, to do something to all words in a sentence, etc.)"
   ]
  },
  {
   "cell_type": "code",
   "execution_count": 5,
   "metadata": {
    "inputHidden": false,
    "outputHidden": false
   },
   "outputs": [
    {
     "name": "stdout",
     "output_type": "stream",
     "text": [
      "Starting. Count: 1\n",
      "In while, because count (1) just tested was below or equal to 3.\n",
      "In while, about to test with new count: 2\n",
      "In while, because count (2) just tested was below or equal to 3.\n",
      "In while, about to test with new count: 3\n",
      "In while, because count (3) just tested was below or equal to 3.\n",
      "In while, about to test with new count: 4\n",
      "Done. Count (4) was not be below or equal to 3.\n"
     ]
    },
    {
     "data": {
      "text/plain": [
       "\u001b[36mcount\u001b[39m: \u001b[32mInt\u001b[39m = \u001b[32m4\u001b[39m"
      ]
     },
     "execution_count": 5,
     "metadata": {},
     "output_type": "execute_result"
    }
   ],
   "source": [
    "var count = 1\n",
    "println(\"Starting. Count: \" + count)\n",
    "while (count <= 3) {\n",
    "  println(\"In while, because count (\"+count+\") just tested was below or equal to 3.\")\n",
    "  count=count+1\n",
    "  println(\"In while, about to test with new count: \"+count)\n",
    "}\n",
    "println(\"Done. Count (\"+count+\") was not be below or equal to 3.\")"
   ]
  },
  {
   "cell_type": "markdown",
   "metadata": {},
   "source": [
    "What the above does is: set the variable `count` to 1. Then, as long as `count` remains under 4, set `count` to `count + 1` and print information on it. \n",
    "\n",
    "Note that both the adding of 1 to `count` and the prints are included inside the while. That's because of the curly braces (`{}`). Try moving the last print statement current in the braces outside of it and re-running the cell. How did the output change? (Note that if you move `count=count+1`, the while will run forever)\n",
    "\n",
    "Some languages, such as Scala again, also have a `do while` construct, which does the thing at least once. (Compare by starting with `var count = 4` above)"
   ]
  },
  {
   "cell_type": "code",
   "execution_count": 6,
   "metadata": {
    "inputHidden": false,
    "outputHidden": false
   },
   "outputs": [
    {
     "name": "stdout",
     "output_type": "stream",
     "text": [
      "Starting. Count: 1\n",
      "In do while, count: 1\n",
      "In do while, about to test with new count: 2\n",
      "In do while, count: 2\n",
      "In do while, about to test with new count: 3\n",
      "In do while, count: 3\n",
      "In do while, about to test with new count: 4\n",
      "Done. Count (4) was not be below or equal to 3.\n"
     ]
    },
    {
     "data": {
      "text/plain": [
       "\u001b[36mcount\u001b[39m: \u001b[32mInt\u001b[39m = \u001b[32m4\u001b[39m"
      ]
     },
     "execution_count": 6,
     "metadata": {},
     "output_type": "execute_result"
    }
   ],
   "source": [
    "var count = 1\n",
    "println(\"Starting. Count: \" + count)\n",
    "do {\n",
    "  println(\"In do while, count: \"+count)\n",
    "  count=count+1\n",
    "  println(\"In do while, about to test with new count: \"+count)\n",
    "} while (count <= 3)\n",
    "println(\"Done. Count (\"+count+\") was not be below or equal to 3.\")"
   ]
  },
  {
   "cell_type": "markdown",
   "metadata": {},
   "source": [
    "Which you use will depend on your particular need. \n",
    "\n",
    "Below, the same repetition is done with the specialized for construct (repeating something for all values in a collection is such a frequent operation, it makes sense that most languages have a specialized construct for it)\n"
   ]
  },
  {
   "cell_type": "code",
   "execution_count": 28,
   "metadata": {
    "inputHidden": false,
    "outputHidden": false
   },
   "outputs": [
    {
     "name": "stdout",
     "output_type": "stream",
     "text": [
      "Starting.\n",
      "For: 1\n",
      "For: 2\n",
      "For: 3\n",
      "Done.\n"
     ]
    }
   ],
   "source": [
    "println(\"Starting.\")\n",
    "for (item <- Seq(1,2,3))\n",
    "  println(\"For: \"+item)\n",
    "println(\"Done.\")"
   ]
  },
  {
   "cell_type": "markdown",
   "metadata": {},
   "source": [
    "## Variable types\n",
    "\n",
    "Notice, that in the above, Scala automatically converted the number `1` to the string `\"1\"`. However, this conversion only works one way, from numbers to strings. But! While in R this results in an error (because R doesn't support `+` for strings), Scala just happily concatenates the two `\"10\"` strings yielding `\"1010\"`."
   ]
  },
  {
   "cell_type": "code",
   "execution_count": 30,
   "metadata": {
    "inputHidden": false,
    "outputHidden": false
   },
   "outputs": [
    {
     "name": "stdout",
     "output_type": "stream",
     "text": [
      "20\n",
      "1010\n"
     ]
    }
   ],
   "source": [
    "println(10+10)\n",
    "println(\"10\"+10)"
   ]
  },
  {
   "cell_type": "markdown",
   "metadata": {},
   "source": [
    "Fortunately, values of different types can often be converted to each other, as in the following:"
   ]
  },
  {
   "cell_type": "code",
   "execution_count": 57,
   "metadata": {
    "inputHidden": false,
    "outputHidden": false
   },
   "outputs": [
    {
     "name": "stdout",
     "output_type": "stream",
     "text": [
      "Type of i: int\n",
      "Type of j: class java.lang.String\n",
      "Is i equal to j?: false\n",
      "Is i.toString equal to j?: true\n",
      "Is i equal to j.toInt?: true\n"
     ]
    },
    {
     "data": {
      "text/plain": [
       "\u001b[36mi\u001b[39m: \u001b[32mInt\u001b[39m = \u001b[32m1\u001b[39m\n",
       "\u001b[36mj\u001b[39m: \u001b[32mString\u001b[39m = \u001b[32m\"1\"\u001b[39m"
      ]
     },
     "execution_count": 57,
     "metadata": {},
     "output_type": "execute_result"
    }
   ],
   "source": [
    "var i = 1\n",
    "println(\"Type of i: \"+i.getClass)\n",
    "var j = \"1\"\n",
    "println(\"Type of j: \"+j.getClass)\n",
    "println(\"Is i equal to j?: \"+(i==j))\n",
    "println(\"Is i.toString equal to j?: \"+(i.toString==j))\n",
    "println(\"Is i equal to j.toInt?: \"+(i==j.toInt))"
   ]
  },
  {
   "cell_type": "markdown",
   "metadata": {},
   "source": [
    "Just don't try converting anything that's not a number to one:"
   ]
  },
  {
   "cell_type": "code",
   "execution_count": 35,
   "metadata": {
    "inputHidden": false,
    "outputHidden": false
   },
   "outputs": [
    {
     "ename": "",
     "evalue": "",
     "output_type": "error",
     "traceback": [
      "\u001b[31mjava.lang.NumberFormatException: For input string: \"eleven\"\u001b[39m",
      "  java.lang.NumberFormatException.forInputString(\u001b[32mNumberFormatException.java\u001b[39m:\u001b[32m65\u001b[39m)",
      "  java.lang.Integer.parseInt(\u001b[32mInteger.java\u001b[39m:\u001b[32m580\u001b[39m)",
      "  java.lang.Integer.parseInt(\u001b[32mInteger.java\u001b[39m:\u001b[32m615\u001b[39m)",
      "  scala.collection.immutable.StringLike$class.toInt(\u001b[32mStringLike.scala\u001b[39m:\u001b[32m273\u001b[39m)",
      "  scala.collection.immutable.StringOps.toInt(\u001b[32mStringOps.scala\u001b[39m:\u001b[32m29\u001b[39m)",
      "  $sess.cmd34Wrapper$Helper.<init>(\u001b[32mcmd34.sc\u001b[39m:\u001b[32m3\u001b[39m)",
      "  $sess.cmd34Wrapper.<init>(\u001b[32mcmd34.sc\u001b[39m:\u001b[32m431\u001b[39m)",
      "  $sess.cmd34$.<init>(\u001b[32mcmd34.sc\u001b[39m:\u001b[32m236\u001b[39m)",
      "  $sess.cmd34$.<clinit>(\u001b[32mcmd34.sc\u001b[39m:\u001b[32m-1\u001b[39m)"
     ]
    }
   ],
   "source": [
    "// The computer understands how to convert the string 11 into a number\n",
    "\"11\".toInt\n",
    "// Yet the string eleven isn't a number to the computer, even though it is to us.\n",
    "\"eleven\".toInt\n",
    "// These lines by the way are comments. They're ways of documenting what a program does to humans reading it. They're not processed by the computer"
   ]
  },
  {
   "cell_type": "markdown",
   "metadata": {},
   "source": [
    "An important thing about Scala here is that it is actually a strongly typed language. What that means is that the language interpreter makes sure a single variable can only contain values of a single type (this is useful for detecting programming errors early)\n",
    "\n",
    "Above, the Scala interpreter identified the variable types based on the values they were set to. You can also set these explicitly:"
   ]
  },
  {
   "cell_type": "code",
   "execution_count": 58,
   "metadata": {
    "inputHidden": false,
    "outputHidden": false
   },
   "outputs": [
    {
     "data": {
      "text/plain": [
       "\u001b[36mi\u001b[39m: \u001b[32mString\u001b[39m = \u001b[32m\"1\"\u001b[39m\n",
       "\u001b[36mj\u001b[39m: \u001b[32mInt\u001b[39m = \u001b[32m1\u001b[39m"
      ]
     },
     "execution_count": 58,
     "metadata": {},
     "output_type": "execute_result"
    }
   ],
   "source": [
    "var i: String = \"1\"\n",
    "var j: Int = 1"
   ]
  },
  {
   "cell_type": "markdown",
   "metadata": {},
   "source": [
    "In a strongly typed language, the interpreter will enforce these types, guarding against type bugs already at code writing time:"
   ]
  },
  {
   "cell_type": "code",
   "execution_count": 58,
   "metadata": {
    "inputHidden": false,
    "outputHidden": false
   },
   "outputs": [
    {
     "name": "stderr",
     "output_type": "stream",
     "text": [
      "cmd57.sc:2: type mismatch;\n",
      " found   : Int(1)\n",
      " required: String\n",
      "val res57_1 = i = 1\n",
      "                  ^"
     ]
    },
    {
     "ename": "",
     "evalue": "",
     "output_type": "error",
     "traceback": [
      "Compilation Failed"
     ]
    }
   ],
   "source": [
    "var i = \"1\"\n",
    "i = 1\n"
   ]
  },
  {
   "cell_type": "markdown",
   "metadata": {},
   "source": [
    "If you want a variable that can hold multiple types of values, you need to specify so explicitly:"
   ]
  },
  {
   "cell_type": "code",
   "execution_count": 37,
   "metadata": {
    "inputHidden": false,
    "outputHidden": false
   },
   "outputs": [
    {
     "data": {
      "text/plain": [
       "\u001b[36mi\u001b[39m: \u001b[32mAny\u001b[39m = 1"
      ]
     },
     "execution_count": 37,
     "metadata": {},
     "output_type": "execute_result"
    }
   ],
   "source": [
    "var i: Any = \"1\"\n",
    "i = 1"
   ]
  },
  {
   "cell_type": "markdown",
   "metadata": {},
   "source": [
    "Besides write-time error detection, strong variable typing also enables lots of nice support in programming environments, such as autocompleting methods that are applicable to the variable type.\n",
    "\n",
    "Again, the types of your variables in practice will often be much more complex than just strings or numbers (such as different particular ways of storing the texts of 1000 books). Still, converting data from one structure to another, as dictated by the needs of processing, is a big part of programming.\n",
    "\n",
    "## Functions/methods\n",
    "\n",
    "Often, one wants to also run a piece of code multiple times, from multiple parts of the program. For this, one *defines* functions, which work for code similarly to how variables work for storing and recalling values (except where data is often read in from outside the code, the logic for a function is specified inside its definition). Functions take in zero or more parameters (given in parentheses), and can optionally return back a single value.\n",
    "\n",
    "(In this way, they're also very much like mathematical functions, where e.g. `f(x)=x+2` is a function definition, with `x` as input and the body of the function defining the returned output as `x+2`.)\n"
   ]
  },
  {
   "cell_type": "code",
   "execution_count": 41,
   "metadata": {
    "inputHidden": false,
    "outputHidden": false
   },
   "outputs": [
    {
     "name": "stdout",
     "output_type": "stream",
     "text": [
      "where are we i dont know \n",
      "this programming is terrifying \n"
     ]
    },
    {
     "data": {
      "text/plain": [
       "defined \u001b[32mfunction\u001b[39m \u001b[36mstandardize\u001b[39m"
      ]
     },
     "execution_count": 41,
     "metadata": {},
     "output_type": "execute_result"
    }
   ],
   "source": [
    "// This is a function definition that takes in a single variable named text. It returns that text after some processing.\n",
    "def standardize(text: String): String = {\n",
    "    var modifiableText = text\n",
    "    modifiableText = modifiableText.replace(\".\",\" \")\n",
    "    modifiableText = modifiableText.replace(\",\",\" \")\n",
    "    modifiableText = modifiableText.replace(\"?\",\" \")\n",
    "    modifiableText = modifiableText.replace(\"!\",\" \")\n",
    "    modifiableText = modifiableText.replace(\"'\",\"\")\n",
    "    modifiableText = modifiableText.toLowerCase()\n",
    "    return modifiableText.replaceAll(\"\\\\s+\",\" \")\n",
    "}\n",
    "\n",
    "println(standardize(\"Where are we? I don't know!\"))\n",
    "println(standardize(\"This, programming... is... terrifying!\"))"
   ]
  },
  {
   "cell_type": "markdown",
   "metadata": {},
   "source": [
    "Again, because Scala is a strongly typed language, you need to define types for both the parameters as well as what is returned (here both `String`). In addition, Scala has a notion of read only variables, and method parameters are such. This requires us to copy the unmodifiable `text` variable to the `modifiableText` variable for processing.\n",
    "\n",
    "(you can define these read only variables yourself using `val variable = something`)\n",
    "\n",
    "Very often, functions are packaged inside libraries, which you have to import in order to use. In Scala, [`replace`](https://docs.oracle.com/javase/8/docs/api/java/lang/String.html#replace-java.lang.CharSequence-java.lang.CharSequence-), [`replaceAll`](https://docs.oracle.com/javase/8/docs/api/java/lang/String.html#replaceAll-java.lang.String-java.lang.String-) and [`toLowerCase`](https://docs.oracle.com/javase/8/docs/api/java/lang/String.html#toLowerCase--) are all methods of `String`-type objects, and `String` is a datatype part of the [Scala standard library](http://www.scala-lang.org/api/2.12.0/index.html) (actually they're a part of the [Java standard library](http://docs.oracle.com/javase/8/docs/api/index.html) on which Scala builds upon), so nothing has to be imported here. \n",
    "\n",
    "However, libraries are still a big thing. In Scala, libraries are usually not imported as a whole. Instead, you import individual pieces as needed. The syntax is `import library.package.classname` (e.g. `import import scala.io.Source`). However, you *can* also import full libraries using the syntax `import library.package._` (e.g. `import scala.collection.JavaConverters._`). Often, libraries contain both new functions as well as new data types. To use the library, one has to read up on both of them.\n",
    "\n",
    "Scala is very object oriented, and thus most functions are defined as methods of data types. Of these, also already seen `toString, toInt` and `getClass`. The only function we've seen is `println`! You can define stuff as functions still if you want:"
   ]
  },
  {
   "cell_type": "code",
   "execution_count": 43,
   "metadata": {
    "inputHidden": false,
    "outputHidden": false
   },
   "outputs": [
    {
     "name": "stdout",
     "output_type": "stream",
     "text": [
      "method of String object: Hmm...->Hmm!!!\n",
      "separately defined replace-function: Hmm...->Hmm!!!\n"
     ]
    },
    {
     "data": {
      "text/plain": [
       "\u001b[36mtext\u001b[39m: \u001b[32mString\u001b[39m = \u001b[32m\"Hmm...\"\u001b[39m\n",
       "defined \u001b[32mfunction\u001b[39m \u001b[36mreplace\u001b[39m"
      ]
     },
     "execution_count": 43,
     "metadata": {},
     "output_type": "execute_result"
    }
   ],
   "source": [
    "var text = \"Hmm...\"\n",
    "println(\"method of String object: \"+text+\"->\"+text.replace(\".\",\"!\"))\n",
    "\n",
    "// Don't worry about the content of this function, just note its parameters (and the fact that again what is contained in the function is defined by indentation)\n",
    "def replace(string: String,replaceThis: Char,withThis: Char): String = {\n",
    "    var modifiableString = new StringBuilder(string)\n",
    "    for (i <- 0 until modifiableString.length)\n",
    "        if (modifiableString(i)==replaceThis)\n",
    "            modifiableString(i)=withThis\n",
    "    return modifiableString.toString\n",
    "}\n",
    "\n",
    "println(\"separately defined replace-function: \"+text+\"->\"+replace(text,'.','!'))\n",
    "\n",
    "/* \n",
    "  See how they're the same thing, but written differently:\n",
    "  replace(text,'.','!') vs\n",
    "  text.replace('.','!')\n",
    " */"
   ]
  },
  {
   "cell_type": "markdown",
   "metadata": {},
   "source": [
    "Having functions implicitly tied to particular types doesn't give us any more functionality, but sometimes makes our code look nicer:"
   ]
  },
  {
   "cell_type": "code",
   "execution_count": 48,
   "metadata": {
    "inputHidden": false,
    "outputHidden": false
   },
   "outputs": [
    {
     "name": "stdout",
     "output_type": "stream",
     "text": [
      "where are we i dont know \n",
      "this programming is terrifying \n"
     ]
    },
    {
     "data": {
      "text/plain": [
       "defined \u001b[32mfunction\u001b[39m \u001b[36mstandardize\u001b[39m\n",
       "defined \u001b[32mfunction\u001b[39m \u001b[36mstandardize2\u001b[39m\n",
       "defined \u001b[32mfunction\u001b[39m \u001b[36mstandardize3\u001b[39m"
      ]
     },
     "execution_count": 48,
     "metadata": {},
     "output_type": "execute_result"
    }
   ],
   "source": [
    "// In the original standardize function, we assigned the replaced text back to the original parameter variable each row:\n",
    "def standardize(text: String): String = {\n",
    "    var modifiableText = text\n",
    "    modifiableText = modifiableText.replace(\".\",\" \")\n",
    "    modifiableText = modifiableText.replace(\",\",\" \")\n",
    "    modifiableText = modifiableText.replace(\"?\",\" \")\n",
    "    modifiableText = modifiableText.replace(\"!\",\" \")\n",
    "    modifiableText = modifiableText.replace(\"'\",\"\")\n",
    "    modifiableText = modifiableText.toLowerCase()\n",
    "    return modifiableText.replaceAll(\"\\\\s+\",\" \")\n",
    "}\n",
    "\n",
    "// Often, we want to write this more shortly. Here, we can use make use of the fact that replace returns a string, and /chain/ a call to the replace (or lower) method of that returned string\n",
    "def standardize2(text: String) =\n",
    "  text.replace(\".\",\" \").replace(\",\",\" \").replace(\"?\",\" \").replace(\"!\",\" \").replace(\"'\",\"\").toLowerCase().replaceAll(\"\\\\s+\",\" \")\n",
    "\n",
    "// Now, we can do this kind of chaining with functions too, but because of where we need to put the string parameter, the result is not nearly as clear to undestand.\n",
    "def standardize3(text: String) =\n",
    "  replace(replace(replace(replace(text,'.',' '),',',' '),'?',' '),'!',' ').replace(\"'\",\"\").toLowerCase().replaceAll(\"\\\\s+\",\" \")\n",
    "\n",
    "println(standardize2(\"Where are we? I don't know!\"))\n",
    "println(standardize3(\"This, programming... is... terrifying!\"))"
   ]
  },
  {
   "cell_type": "markdown",
   "metadata": {},
   "source": [
    "By the way, Scala is also very *functional* in the mathematical sense, where functions are chained to produce a desired output. To this end, Scala includes lots of support for doing stuff in this functional manner.\n",
    "\n",
    "Thus, an idiomatic Scala way for defining the above replace function would be:"
   ]
  },
  {
   "cell_type": "code",
   "execution_count": 49,
   "metadata": {
    "inputHidden": false,
    "outputHidden": false
   },
   "outputs": [
    {
     "name": "stdout",
     "output_type": "stream",
     "text": [
      "separately defined replace-function: Hmm...->Hmm!!!\n"
     ]
    },
    {
     "data": {
      "text/plain": [
       "defined \u001b[32mfunction\u001b[39m \u001b[36mreplace\u001b[39m"
      ]
     },
     "execution_count": 49,
     "metadata": {},
     "output_type": "execute_result"
    }
   ],
   "source": [
    "def replace(string: String, replaceThis: Char, withThis: Char) =\n",
    "  string.map(char => if (char == replaceThis) withThis else char)\n",
    "  \n",
    "println(\"separately defined replace-function: \"+text+\"->\"+replace(text,'.','!'))"
   ]
  },
  {
   "cell_type": "markdown",
   "metadata": {},
   "source": [
    "Here, map is a functional method associated with all sequences (strings are sequences of characters) that maps each entry in the sequence to something else. Inside the call to map, `char => if (char == replaceThis) withThis else char` is actually a *lambda function*, a special type of unnamed function. See:"
   ]
  },
  {
   "cell_type": "code",
   "execution_count": 52,
   "metadata": {
    "inputHidden": false,
    "outputHidden": false
   },
   "outputs": [
    {
     "name": "stdout",
     "output_type": "stream",
     "text": [
      "separately defined replace-function: Hmm...->!!!!!!\n",
      "replace-function taking in a select function: Hmm...->Hmm!!!\n"
     ]
    },
    {
     "data": {
      "text/plain": [
       "defined \u001b[32mfunction\u001b[39m \u001b[36mselect\u001b[39m\n",
       "defined \u001b[32mfunction\u001b[39m \u001b[36mreplace\u001b[39m\n",
       "defined \u001b[32mfunction\u001b[39m \u001b[36mreplace2\u001b[39m"
      ]
     },
     "execution_count": 52,
     "metadata": {},
     "output_type": "execute_result"
    }
   ],
   "source": [
    "def select(replaceThis: Char, withThis: Char, charToConsider: Char) =\n",
    "  if (charToConsider == replaceThis) withThis else charToConsider\n",
    "  \n",
    "def replace(string: String, replaceThis: Char, withThis: Char) =\n",
    "  string.map(select(_,replaceThis,withThis))\n",
    "  \n",
    "println(\"separately defined replace-function: \"+text+\"->\"+replace(text,'.','!'))\n",
    "\n",
    "// How this works is that the map method of string actually takes in a function as a parameter. We can define replace that way too:\n",
    "\n",
    "def replace2(string: String, select: Char => Char) =\n",
    "  string.map(select)\n",
    "  \n",
    "println(\"replace-function taking in a select function: \"+text+\"->\"+replace2(text,select('.','!',_)))"
   ]
  },
  {
   "cell_type": "markdown",
   "metadata": {},
   "source": [
    "(Above, `select('.','!',_)` takes the `select` function, which is a three parameter function, and binds two of those parameters to create a one parameter function)\n",
    "\n",
    "Often, libraries contain both new functions as well as new data types (classes) with attendant methods. To use the library, one has to read up on all of them."
   ]
  },
  {
   "cell_type": "markdown",
   "metadata": {},
   "source": [
    "## Data structures\n",
    "\n",
    "As said earlier, variables can hold much more complex data than just simple strings or numbers. They can in fact hold any data structure defined by the programming language or a libary. \n",
    "\n",
    "Most programming languages have two very useful core data types you should know. These are lists (or sequences or arrays) for holding multiple items, and [dictionaries](https://docs.python.org/3/tutorial/datastructures.html#dictionaries) (or hashes or maps) for creating associations between items. "
   ]
  },
  {
   "cell_type": "code",
   "execution_count": 54,
   "metadata": {
    "inputHidden": false,
    "outputHidden": false
   },
   "outputs": [
    {
     "name": "stdout",
     "output_type": "stream",
     "text": [
      "where are we i dont know \n",
      "this programming is terrifying \n",
      "and\n",
      "Where are we? I don't know!\n"
     ]
    },
    {
     "data": {
      "text/plain": [
       "\u001b[36mreplacements\u001b[39m: \u001b[32mMap\u001b[39m[\u001b[32mString\u001b[39m, \u001b[32mString\u001b[39m] = \u001b[33mMap\u001b[39m(\u001b[32m\".\"\u001b[39m -> \u001b[32m\" \"\u001b[39m, \u001b[32m\"&\"\u001b[39m -> \u001b[32m\"and\"\u001b[39m, \u001b[32m\"!\"\u001b[39m -> \u001b[32m\" \"\u001b[39m, \u001b[32m\",\"\u001b[39m -> \u001b[32m\" \"\u001b[39m, \u001b[32m\"'\"\u001b[39m -> \u001b[32m\"\"\u001b[39m, \u001b[32m\"?\"\u001b[39m -> \u001b[32m\" \"\u001b[39m)\n",
       "defined \u001b[32mfunction\u001b[39m \u001b[36mstandardize4\u001b[39m\n",
       "\u001b[36msentences\u001b[39m: \u001b[32mSeq\u001b[39m[\u001b[32mString\u001b[39m] = \u001b[33mList\u001b[39m(\u001b[32m\"Where are we? I don't know!\"\u001b[39m, \u001b[32m\"This, programming... is... terrifying!\"\u001b[39m)"
      ]
     },
     "execution_count": 54,
     "metadata": {},
     "output_type": "execute_result"
    }
   ],
   "source": [
    "// Here, we're defining a replacement dictionary. The magic syntax uses {} and -> \n",
    "var replacements = Map(\n",
    "    \".\" -> \" \",\n",
    "    \",\" -> \" \",\n",
    "    \"!\" -> \" \",\n",
    "    \"?\" -> \" \",\n",
    "    \"'\" -> \"\",\n",
    "    \"&\" -> \"and\" \n",
    ")\n",
    "\n",
    "def standardize4(text: String): String = {\n",
    "    var modifiableText = text\n",
    "    // Here we're going over all the keys in the replacement dictionary and acting on them\n",
    "    for ((key,replacement) <- replacements) {\n",
    "      modifiableText = modifiableText.replace(key, replacement)\n",
    "    }\n",
    "    return modifiableText.toLowerCase.replaceAll(\"\\\\s+\", \" \")\n",
    "}    \n",
    "\n",
    "// This is a sequence. \n",
    "val sentences = Seq(\"Where are we? I don't know!\", \"This, programming... is... terrifying!\")\n",
    "\n",
    "// Here we're calling the function once for each string in the sentences list\n",
    "for (sentence <- sentences)\n",
    "    println(standardize4(sentence))\n",
    "    \n",
    "// You can also explicitly refer to a particular slot in a list or a key in a dictionary using square brackets:\n",
    "println(replacements(\"&\"))\n",
    "println(sentences(0))\n",
    "// In the above, note that the first entry in the list is at index 0, not 1. That's a conventional relic that permeates most programming languages, and comes originally from the way computers handle memory."
   ]
  },
  {
   "cell_type": "code",
   "execution_count": 56,
   "metadata": {
    "inputHidden": false,
    "outputHidden": false
   },
   "outputs": [
    {
     "name": "stdout",
     "output_type": "stream",
     "text": [
      "!\n",
      "List(?, !)\n"
     ]
    },
    {
     "data": {
      "text/plain": [
       "\u001b[36mreplacements2\u001b[39m: \u001b[32mMap\u001b[39m[\u001b[32mString\u001b[39m, \u001b[32mString\u001b[39m] = \u001b[33mMap\u001b[39m(\u001b[32m\".\"\u001b[39m -> \u001b[32m\"!\"\u001b[39m)\n",
       "\u001b[36mreplacements3\u001b[39m: \u001b[32mMap\u001b[39m[\u001b[32mString\u001b[39m, \u001b[32mSeq\u001b[39m[\u001b[32mString\u001b[39m]] = \u001b[33mMap\u001b[39m(\u001b[32m\".\"\u001b[39m -> \u001b[33mList\u001b[39m(\u001b[32m\"?\"\u001b[39m, \u001b[32m\"!\"\u001b[39m))"
      ]
     },
     "execution_count": 56,
     "metadata": {},
     "output_type": "execute_result"
    }
   ],
   "source": [
    "// Note that a dictionary can only contain one value for each key\n",
    "val replacements2 = Map(\n",
    "    \".\" -> \"?\",\n",
    "    \".\" -> \"!\"\n",
    ")\n",
    "println(replacements2(\".\"))\n",
    "\n",
    "// Therefore, if you need multiple values, you have to combine dictionaries with lists:\n",
    "val replacements3 = Map(\n",
    "    \".\" -> Seq(\"?\",\"!\")\n",
    ")\n",
    "\n",
    "println(replacements3(\".\"))"
   ]
  },
  {
   "cell_type": "markdown",
   "metadata": {},
   "source": [
    "## Conclusion\n",
    "\n",
    "That's all I think you absolutely *need* to know in order to start reading and learning from examples. "
   ]
  }
 ],
 "metadata": {
  "kernel_info": {
   "name": "scala"
  },
  "kernelspec": {
   "display_name": "Scala",
   "language": "scala",
   "name": "scala"
  },
  "language_info": {
   "codemirror_mode": "text/x-scala",
   "file_extension": ".scala",
   "mimetype": "text/x-scala",
   "name": "scala",
   "nbconvert_exporter": "script",
   "version": "2.12.7"
  },
  "nteract": {
   "version": "0.2.0"
  }
 },
 "nbformat": 4,
 "nbformat_minor": 4
}
